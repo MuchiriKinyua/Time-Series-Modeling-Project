{
 "cells": [
  {
   "cell_type": "markdown",
   "id": "19a5cc19-ec70-46ac-8810-9d5f3a31122c",
   "metadata": {},
   "source": [
    "# Title"
   ]
  },
  {
   "cell_type": "markdown",
   "id": "4c57ac11-bc9e-446e-8b66-c41d3d765e4a",
   "metadata": {},
   "source": [
    "# Table of contents"
   ]
  },
  {
   "cell_type": "markdown",
   "id": "4495ee52-e437-40ab-9f2b-7f90c4346d98",
   "metadata": {},
   "source": [
    "[1. Business Understanding](#1.-Business-Understanding) </br>\n",
    "[1.1 Business Description](#1.1-Business-Description) </br>\n",
    "[1.2 Problem Statement](#1.2-Problem-Statement) </br>\n",
    "[1.3 Main Objective](#1.3-Main-Objective) </br>\n",
    "[1.4 Specific Objectives](#1.4-Specific-Objectives) </br>\n",
    "[2. Importing Libraries And Warnings](#2.-Importing-Libraries-And-Warnings) </br>\n",
    "[3. Data Understanding](#3.-Data-Understanding) </br>\n",
    "[4. Data Preparation](#4.-Data-Preparation) </br>\n",
    "[5. EDA](#5.-EDA) </br>\n",
    "[6. Data Preprocessing](#6.-Data-Preprocessing) </br>\n",
    "[7. Data Modelling](#7.-Data-Modelling) </br>\n",
    "[8. Evaluation](#8.-Evaluation) </br>\n",
    "[9. Recommendations](#9.-Recommendations) </br>\n",
    "[10. Conclusions](#10.-Conclusions) </br>\n",
    "[11. Challenges](#11.-Challenges)"
   ]
  },
  {
   "cell_type": "markdown",
   "id": "a2fe86f8-4408-48fe-ae44-998adc279661",
   "metadata": {},
   "source": [
    "# 1. Business Understanding"
   ]
  },
  {
   "cell_type": "markdown",
   "id": "bbff0685-14a0-4dff-a037-eb87ba50ff8e",
   "metadata": {},
   "source": [
    "## 1.1 Business Description"
   ]
  },
  {
   "cell_type": "markdown",
   "id": "0f23783d-f23a-477d-bcd9-7643abfbd765",
   "metadata": {},
   "source": [
    "## 1.2 Problem Statement"
   ]
  },
  {
   "cell_type": "markdown",
   "id": "86a33cb9-2d2b-4ec5-b472-8f3e09d0c370",
   "metadata": {},
   "source": [
    "## 1.3 Main Objective"
   ]
  },
  {
   "cell_type": "markdown",
   "id": "7f0c1c1d-d764-4416-81ef-23b61f37ca26",
   "metadata": {},
   "source": [
    "## 1.4 Specific Objectives"
   ]
  },
  {
   "cell_type": "markdown",
   "id": "3dc65bae-5075-4646-8810-797a614cedb0",
   "metadata": {},
   "source": [
    "# 2. Importing Libraries And Warnings"
   ]
  },
  {
   "cell_type": "markdown",
   "id": "f63df5c4-3d50-4155-8f3e-fba49817636b",
   "metadata": {},
   "source": [
    "# 3. Data Understanding"
   ]
  },
  {
   "cell_type": "markdown",
   "id": "3d9e3e93-96fb-4125-bd13-6dce626be2f0",
   "metadata": {},
   "source": [
    "# 4. Data Preparation"
   ]
  },
  {
   "cell_type": "markdown",
   "id": "cf576baa-f3eb-42d3-8905-32967c43fa9f",
   "metadata": {},
   "source": [
    "# 5. EDA"
   ]
  },
  {
   "cell_type": "markdown",
   "id": "c60cfc99-d3b9-459b-b670-6ce1c45b14c2",
   "metadata": {},
   "source": [
    "## 5.1 Univariate analysis"
   ]
  },
  {
   "cell_type": "markdown",
   "id": "c24e6c0c-16be-4123-b78f-aba03707f922",
   "metadata": {},
   "source": [
    "## 5.2 Bivariate analysis"
   ]
  },
  {
   "cell_type": "markdown",
   "id": "b40e21e8-f58a-45eb-9c51-f9cef0e09636",
   "metadata": {},
   "source": [
    "## 5.3 Multivariate analysis"
   ]
  },
  {
   "cell_type": "markdown",
   "id": "a87ed915-fc08-4c34-9564-c122cbc3e625",
   "metadata": {},
   "source": [
    "# 6. Data Preprocessing"
   ]
  },
  {
   "cell_type": "markdown",
   "id": "de4c7acd-a86c-4f28-be07-ce76dc71840a",
   "metadata": {},
   "source": [
    "# 7. Data Modelling"
   ]
  },
  {
   "cell_type": "markdown",
   "id": "91df6522-53ec-49fc-875c-c2482ac2e46a",
   "metadata": {},
   "source": [
    "# 8. Evaluation"
   ]
  },
  {
   "cell_type": "markdown",
   "id": "e93d0867-778b-4b7a-908d-04f370fbaa31",
   "metadata": {},
   "source": [
    "# 9. Recommendations"
   ]
  },
  {
   "cell_type": "markdown",
   "id": "2d6a0997-d1b3-4db3-89d6-dad578e28c2d",
   "metadata": {},
   "source": [
    "# 10. Conclusions"
   ]
  },
  {
   "cell_type": "markdown",
   "id": "d298a5da-87b4-42ec-b646-df552e51d812",
   "metadata": {},
   "source": [
    "# 11. Challenges"
   ]
  }
 ],
 "metadata": {
  "kernelspec": {
   "display_name": "Python 3 (ipykernel)",
   "language": "python",
   "name": "python3"
  },
  "language_info": {
   "codemirror_mode": {
    "name": "ipython",
    "version": 3
   },
   "file_extension": ".py",
   "mimetype": "text/x-python",
   "name": "python",
   "nbconvert_exporter": "python",
   "pygments_lexer": "ipython3",
   "version": "3.10.11"
  }
 },
 "nbformat": 4,
 "nbformat_minor": 5
}
